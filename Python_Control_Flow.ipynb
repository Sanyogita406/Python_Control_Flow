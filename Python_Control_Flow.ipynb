{
  "cells": [
    {
      "cell_type": "code",
      "execution_count": null,
      "metadata": {
        "colab": {
          "base_uri": "https://localhost:8080/"
        },
        "id": "EpCKgskC1lSU",
        "outputId": "a2b9bf02-3cde-4701-9beb-943f54cd3b4a"
      },
      "outputs": [
        {
          "name": "stdout",
          "output_type": "stream",
          "text": [
            "Number is positive\n"
          ]
        }
      ],
      "source": [
        "#Basic if else statement\n",
        "#1.Write a python program to check if a given number is positive or negative                                                                                                                                               #1. Write a python program to check if a given number is positive or negative\n",
        "\n",
        "num = 0\n",
        "if num >= 0:\n",
        "  print(\"Number is positive\")\n",
        "else:\n",
        "  print(\"Number is negative\")"
      ]
    },
    {
      "cell_type": "code",
      "execution_count": null,
      "metadata": {
        "colab": {
          "base_uri": "https://localhost:8080/"
        },
        "id": "stuwxmO313El",
        "outputId": "970974fb-094a-407f-e3d7-22e37514ce50"
      },
      "outputs": [
        {
          "name": "stdout",
          "output_type": "stream",
          "text": [
            "Voter is eligible to vote\n"
          ]
        }
      ],
      "source": [
        "#2. Create a program that determines if a person is eligible to vote based on their age\n",
        "\n",
        "voters_age = 19\n",
        "if voters_age >= 18:\n",
        "  print(\"Voter is eligible to vote\")\n",
        "else:\n",
        "  print(\"Voter is not eligible to vote\")"
      ]
    },
    {
      "cell_type": "code",
      "execution_count": null,
      "metadata": {
        "colab": {
          "base_uri": "https://localhost:8080/"
        },
        "id": "1_Yzm2Oe2LAr",
        "outputId": "54a707f8-5d7d-4bbb-b496-71ed85f28da0"
      },
      "outputs": [
        {
          "name": "stdout",
          "output_type": "stream",
          "text": [
            "4\n"
          ]
        }
      ],
      "source": [
        "#3. Develop a program to find the maximum of two numbers using if-else statements\n",
        "\n",
        "def maximum(a,b):\n",
        "  if a >= b:\n",
        "    return a\n",
        "  else:\n",
        "    return b\n",
        "a = 2\n",
        "b = 4\n",
        "print(maximum(a,b))"
      ]
    },
    {
      "cell_type": "code",
      "execution_count": null,
      "metadata": {
        "colab": {
          "base_uri": "https://localhost:8080/"
        },
        "id": "CNMwdKej2Y6y",
        "outputId": "f4dddcbb-b863-4c95-8095-97e7b3aab018"
      },
      "outputs": [
        {
          "name": "stdout",
          "output_type": "stream",
          "text": [
            "Leap Year\n"
          ]
        }
      ],
      "source": [
        "#4. Write a python script to classify a given year as a leap year or not\n",
        "\n",
        "def checkYear(year):\n",
        "  import calendar\n",
        "  return(calendar.isleap(year))\n",
        "year = 2000\n",
        "if(checkYear(year)):\n",
        "  print(\"Leap Year\")\n",
        "else:\n",
        "  print(\"Not a Leap Year\")"
      ]
    },
    {
      "cell_type": "code",
      "execution_count": null,
      "metadata": {
        "colab": {
          "base_uri": "https://localhost:8080/"
        },
        "id": "F9WKN7OC2oRd",
        "outputId": "f492652a-00d3-43e6-cd62-4520a06686ee"
      },
      "outputs": [
        {
          "name": "stdout",
          "output_type": "stream",
          "text": [
            "Consonant\n",
            "Vowel\n"
          ]
        }
      ],
      "source": [
        "#5. Create a program that checks whether a character is a vowel or a consonent\n",
        "\n",
        "def vowelOrConsonant(x):\n",
        "  if(x =='a' or x == 'e' or x == 'i' or x == 'o' or x == 'u'):\n",
        "    print(\"Vowel\")\n",
        "  else:\n",
        "    print(\"Consonant\")\n",
        "vowelOrConsonant('c')\n",
        "vowelOrConsonant('e')"
      ]
    },
    {
      "cell_type": "code",
      "execution_count": null,
      "metadata": {
        "colab": {
          "base_uri": "https://localhost:8080/"
        },
        "id": "NNfxro2M3AGk",
        "outputId": "402c4adc-f356-4992-9cc7-7e2c3e337877"
      },
      "outputs": [
        {
          "name": "stdout",
          "output_type": "stream",
          "text": [
            "Enter a number: 9\n",
            "9 is Odd number\n"
          ]
        }
      ],
      "source": [
        "#6. Implement a program to determine whether a given number is a even is even or odd\n",
        "\n",
        "num = int(input(\"Enter a number: \"))\n",
        "if(num %2 == 0):\n",
        "  print(\"{0} is Even number\".format(num))\n",
        "else:\n",
        "  print(\"{0} is Odd number\".format(num))"
      ]
    },
    {
      "cell_type": "code",
      "execution_count": null,
      "metadata": {
        "colab": {
          "base_uri": "https://localhost:8080/"
        },
        "id": "OC2GT3ws3Pll",
        "outputId": "88ee5505-d147-4bb2-d5f4-3c64dc8a2679"
      },
      "outputs": [
        {
          "name": "stdout",
          "output_type": "stream",
          "text": [
            "10\n",
            "20\n",
            "0\n"
          ]
        }
      ],
      "source": [
        "#7. Write a python function to calculate the absolute value of a number without using the'abs' function\n",
        "\n",
        "def absolute_value(num):\n",
        "  if num >= 0:\n",
        "    return num\n",
        "  else:\n",
        "    return -num\n",
        "print(absolute_value(10))\n",
        "print(absolute_value(-20))\n",
        "print(absolute_value(0))"
      ]
    },
    {
      "cell_type": "code",
      "source": [
        "#8. Develop a program that determines the largest of 3 given numbers using if-else statements\n",
        "\n",
        "num1 = 25\n",
        "num2 = 30\n",
        "num3 = 20\n",
        "if (num1 >= num2) and (num1 >= num3):\n",
        "  largest = num1\n",
        "elif (num2 >= num1) and (num2 >= num3):\n",
        "  largest = num2\n",
        "else:\n",
        "  largest = num3\n",
        "print(\"The largest number is\", largest)"
      ],
      "metadata": {
        "colab": {
          "base_uri": "https://localhost:8080/"
        },
        "id": "NJPSFYG3pimO",
        "outputId": "40004f07-7563-4350-dc3f-de81017b813d"
      },
      "execution_count": 18,
      "outputs": [
        {
          "output_type": "stream",
          "name": "stdout",
          "text": [
            "The largest number is 30\n"
          ]
        }
      ]
    },
    {
      "cell_type": "code",
      "execution_count": null,
      "metadata": {
        "colab": {
          "base_uri": "https://localhost:8080/"
        },
        "id": "nYmVplYO3krw",
        "outputId": "fb3b4284-179d-4fbd-a35a-3b1e9ad0664a"
      },
      "outputs": [
        {
          "name": "stdout",
          "output_type": "stream",
          "text": [
            "Yes\n"
          ]
        }
      ],
      "source": [
        "#9. Create a program that checks if a given string is a palindrome\n",
        "\n",
        "def isPalindrome(s):\n",
        "  return s == s[::-1]\n",
        "s = \"malayalam\"\n",
        "ans = isPalindrome(s)\n",
        "if ans:\n",
        "  print(\"Yes\")\n",
        "else:\n",
        "  print(\"No\")"
      ]
    },
    {
      "cell_type": "code",
      "execution_count": null,
      "metadata": {
        "colab": {
          "base_uri": "https://localhost:8080/"
        },
        "id": "rwthqtWi32GH",
        "outputId": "a6133e87-4004-4e51-f03d-73c39df21a97"
      },
      "outputs": [
        {
          "name": "stdout",
          "output_type": "stream",
          "text": [
            "Enter the number 88\n",
            "Excellent\n"
          ]
        }
      ],
      "source": [
        "#10. Write a python program to calculate the grade based on a student's score\n",
        "\n",
        "marks = float(input(\"Enter the number \"))\n",
        "if (marks < 40):\n",
        "  print(\"Satisfactory\")\n",
        "elif(marks > 40 and marks < 80):\n",
        "  print(\"Good\")\n",
        "else:\n",
        "  print(\"Excellent\")"
      ]
    },
    {
      "cell_type": "code",
      "execution_count": null,
      "metadata": {
        "colab": {
          "base_uri": "https://localhost:8080/"
        },
        "id": "P293ilcr4GiG",
        "outputId": "67ba559e-dc7d-4e6b-d5e8-a4fc86328a0f"
      },
      "outputs": [
        {
          "name": "stdout",
          "output_type": "stream",
          "text": [
            "Enter A: 10\n",
            "Enter B: 20\n",
            "Enter C: 5\n",
            "Greater = 20\n"
          ]
        }
      ],
      "source": [
        "# Nested if else statement\n",
        "#11. Write a program to find the largest among three numbers using nested-if else statements\n",
        "\n",
        "a = int(input(\"Enter A: \"))\n",
        "b = int(input(\"Enter B: \"))\n",
        "c = int(input(\"Enter C: \"))\n",
        "if a>b:\n",
        "  if a>c :\n",
        "    g=c\n",
        "else:\n",
        "  if b>c:\n",
        "    g=b\n",
        "  else:\n",
        "      g=c\n",
        "print(\"Greater =\" , g)"
      ]
    },
    {
      "cell_type": "code",
      "execution_count": null,
      "metadata": {
        "colab": {
          "base_uri": "https://localhost:8080/"
        },
        "id": "Fms4kJ_T4VSO",
        "outputId": "a60f7139-7ba6-4bfb-bcef-595cd942d44d"
      },
      "outputs": [
        {
          "name": "stdout",
          "output_type": "stream",
          "text": [
            "Scalene Triangle\n"
          ]
        }
      ],
      "source": [
        "#12. Implement a program to determine if a triangle is equilateral, isosceles, or scalene\n",
        "\n",
        "def checkTriangle(x,y,z):\n",
        "  if x == y == z:\n",
        "    print(\"Equilateral triangle\")\n",
        "  elif x == y or y == z or z == x:\n",
        "    print(\"Isosceles Triangle\")\n",
        "  else:\n",
        "    print(\"Scalene Triangle\")\n",
        "x = 8\n",
        "y = 7\n",
        "z = 9\n",
        "checkTriangle(x,y,z)"
      ]
    },
    {
      "cell_type": "code",
      "execution_count": null,
      "metadata": {
        "colab": {
          "base_uri": "https://localhost:8080/"
        },
        "id": "UWlLcyyL4pHO",
        "outputId": "1010c4d4-ca76-4330-c02f-f939b60a4273"
      },
      "outputs": [
        {
          "name": "stdout",
          "output_type": "stream",
          "text": [
            "Leap Year\n"
          ]
        }
      ],
      "source": [
        "#13. Develop a program that checks if a year is a leap year and also if it is a century year\n",
        "\n",
        "def checkYear(year):\n",
        "  import calendar\n",
        "  return(calendar.isleap(year))\n",
        "year = 2000\n",
        "if(checkYear(year)):\n",
        "  print(\"Leap Year\")\n",
        "else:\n",
        "    print(\"Not a Leap Year\")"
      ]
    },
    {
      "cell_type": "code",
      "execution_count": null,
      "metadata": {
        "colab": {
          "base_uri": "https://localhost:8080/"
        },
        "id": "arbJwFz05FvU",
        "outputId": "b7835f7a-234a-4bb0-dd25-496f4cdd790b"
      },
      "outputs": [
        {
          "name": "stdout",
          "output_type": "stream",
          "text": [
            "Enter a number: -6\n",
            "Number is negative\n"
          ]
        }
      ],
      "source": [
        "#14. Write a python script to determine if a number is a positive, negative or zero\n",
        "\n",
        "def NumberCheck(a):\n",
        "  if a > 0:\n",
        "    print(\"Number is positive\")\n",
        "  elif a < 0:\n",
        "    print(\"Number is negative\")\n",
        "  else:\n",
        "    print(\"Number is zero\")\n",
        "a = int(input(\"Enter a number: \"))\n",
        "NumberCheck(a)"
      ]
    },
    {
      "cell_type": "code",
      "execution_count": null,
      "metadata": {
        "colab": {
          "base_uri": "https://localhost:8080/"
        },
        "id": "NVmamTLV5j9V",
        "outputId": "3d2809ba-571a-4314-fcaa-d9d553f45174"
      },
      "outputs": [
        {
          "name": "stdout",
          "output_type": "stream",
          "text": [
            "Enter your age: 14\n",
            "Not eligible to vote\n"
          ]
        }
      ],
      "source": [
        "#15. Create a program to check if a person is a teenager(between 13 to 19 yrs old)\n",
        "\n",
        "age = int(input(\"Enter your age: \"))\n",
        "if(age > 18):\n",
        "  print(\"Eligible to vote\")\n",
        "else:\n",
        "  print(\"Not eligible to vote\")"
      ]
    },
    {
      "cell_type": "code",
      "execution_count": null,
      "metadata": {
        "colab": {
          "base_uri": "https://localhost:8080/"
        },
        "id": "Iy5pC0AP51-r",
        "outputId": "946201ea-0e0e-46be-bb1b-2ebb0859ca41"
      },
      "outputs": [
        {
          "name": "stdout",
          "output_type": "stream",
          "text": [
            "Enter the number of 1: 90\n",
            "Enter a number of 2: 30\n",
            "Enter a number of 3: 10\n",
            "Obtuse Angle\n",
            "Right Angle\n"
          ]
        }
      ],
      "source": [
        "#16. Develop a program that determines the type of angle based on its measure(acute, obtuse or right)\n",
        "\n",
        "a = int(input(\"Enter the number of 1: \"))\n",
        "b = int(input(\"Enter a number of 2: \"))\n",
        "c = int(input(\"Enter a number of 3: \"))\n",
        "if(a+b+c <= 90):\n",
        "  print(\"Acute Angle\")\n",
        "if(90>a<=180 or 90>b<=180 or 90>c<=180):\n",
        "  print(\"Obtuse Angle\")\n",
        "if(a == 90 or b == 90 or c == 90):\n",
        "  print(\"Right Angle\")"
      ]
    },
    {
      "cell_type": "code",
      "execution_count": null,
      "metadata": {
        "colab": {
          "base_uri": "https://localhost:8080/"
        },
        "id": "q9Gr0oQU6MXV",
        "outputId": "db2216a3-adc3-48bf-a18c-dcf67d11f70e"
      },
      "outputs": [
        {
          "name": "stdout",
          "output_type": "stream",
          "text": [
            "The roots are\n",
            "(-3.414213562373095+0j)\n",
            "(-0.5857864376269049+0j)\n"
          ]
        }
      ],
      "source": [
        "#17. Write a python program to calculate the roots of a quadratic equation\n",
        "\n",
        "import cmath\n",
        "a = 1\n",
        "b = 4\n",
        "c = 2\n",
        "dis = (b**2) -(4*a*c)\n",
        "ans1 = (-b-cmath.sqrt(dis))/(2*a)\n",
        "ans2 = (-b + cmath.sqrt(dis))/(2*a)\n",
        "print('The roots are')\n",
        "print(ans1)\n",
        "print(ans2)"
      ]
    },
    {
      "cell_type": "code",
      "execution_count": null,
      "metadata": {
        "colab": {
          "base_uri": "https://localhost:8080/"
        },
        "id": "jmo-AUoS6mUB",
        "outputId": "6f96fbea-30b4-4de5-f96f-901c90c10b41"
      },
      "outputs": [
        {
          "name": "stdout",
          "output_type": "stream",
          "text": [
            "Enter a number from 1 to 7: 3\n",
            "3 is Tuesday\n"
          ]
        }
      ],
      "source": [
        "#18. Implement a program to determine the day of the week based on a user-provided number(1 for monday, 2 for tuesday, etc)\n",
        "\n",
        "day = int(input(\"Enter a number from 1 to 7: \"))\n",
        "if day == 1:\n",
        "  print(day, \"is Sunday\")\n",
        "elif day == 2:\n",
        "  print(day, \"is Monday\")\n",
        "elif day == 3:\n",
        "  print(day, \"is Tuesday\")\n",
        "elif day == 4:\n",
        "  print(day, \"is Wednesday\")\n",
        "elif day == 5:\n",
        "  print(day, \"is Thurday\")\n",
        "elif day == 6:\n",
        "  print(day, \"is Friday\")\n",
        "elif day == 7:\n",
        "  print(day, \"is Saturday\")\n",
        "else:\n",
        "  print(\"Wrong input! Please enter a correct number\")"
      ]
    },
    {
      "cell_type": "code",
      "execution_count": null,
      "metadata": {
        "colab": {
          "base_uri": "https://localhost:8080/"
        },
        "id": "ULWNFo0Z7CCJ",
        "outputId": "f485f80e-4c08-4981-8646-577ba69d6bbe"
      },
      "outputs": [
        {
          "name": "stdout",
          "output_type": "stream",
          "text": [
            "1\n"
          ]
        }
      ],
      "source": [
        "#19. Create a program that determines if a year is a leap year and also if it is evenly divisible by 400\n",
        "\n",
        "def ISLP(y):\n",
        " if ((y % 400 == 0) or\n",
        "     (y % 100 != 0) and\n",
        "     (y % 4 == 0)):\n",
        "    return 1;\n",
        " else:\n",
        "    return 0;\n",
        "if __name__ == '__main__':\n",
        "  year = 2020;\n",
        "  print(ISLP(year));"
      ]
    },
    {
      "cell_type": "code",
      "execution_count": null,
      "metadata": {
        "colab": {
          "base_uri": "https://localhost:8080/"
        },
        "id": "qsej0dlE7mNt",
        "outputId": "78b0ad31-510b-47db-8b0f-2eda8d94630b"
      },
      "outputs": [
        {
          "name": "stdout",
          "output_type": "stream",
          "text": [
            "11 is a prime number\n"
          ]
        }
      ],
      "source": [
        "#20. Develop a program that checks if a given number is prime or not using nested if-else statements\n",
        "\n",
        "num= 11\n",
        "if num > 1:\n",
        "  for i in range(2, int (num/2) + 1):\n",
        "    if(num % i) == 0:\n",
        "      print(num, \"is not a primt number\")\n",
        "      break\n",
        "  else:\n",
        "      print(num, \"is a prime number\")\n",
        "else:\n",
        "   print(num, \"is not a prime number\")"
      ]
    },
    {
      "cell_type": "code",
      "execution_count": null,
      "metadata": {
        "colab": {
          "base_uri": "https://localhost:8080/"
        },
        "id": "xOWfAc78A5UR",
        "outputId": "e9137ac0-68d3-431d-c87f-5e1a5d2a194c"
      },
      "outputs": [
        {
          "name": "stdout",
          "output_type": "stream",
          "text": [
            "Enter Marks Obtained  in 5 subjects: \n",
            "Your Grade is B2\n"
          ]
        }
      ],
      "source": [
        "# Elif Statements\n",
        "#21. Write a python program to assign grades based on different ranges of sources using elif statements\n",
        "\n",
        "print(\"Enter Marks Obtained  in 5 subjects: \")\n",
        "total1 = 44\n",
        "total2 = 67\n",
        "total3 = 76\n",
        "total4 = 99\n",
        "total5 = 58\n",
        "tot = total1 + total2 + total3 + total4 + total5\n",
        "avg = tot / 5\n",
        "if avg >= 91 and avg <= 100:\n",
        "  print(\"Your Grade is A1\")\n",
        "elif avg >= 81 and avg < 91:\n",
        "  print(\"Your Grade is A2\")\n",
        "elif avg >= 71 and avg < 81:\n",
        "  print(\"Your Grade is B1\")\n",
        "elif avg >= 61 and avg < 71:\n",
        "  print(\"Your Grade is B2\")\n",
        "elif avg >= 51 and avg < 61:\n",
        "  print(\"Your Grade is C1\")\n",
        "elif avg >= 41 and avg < 51:\n",
        "  print(\"Your Grade is C2\")\n",
        "elif avg >= 33 and avg < 41:\n",
        "  print(\"Your Grade is D\")\n",
        "elif avg >= 21 and avg < 33:\n",
        "  print(\"Your Grade is E1\")\n",
        "elif avg >= 0 and avg < 21:\n",
        "  print(\"Your Grade is E2\")\n",
        "else:\n",
        "  print(\"Invalid Input\")"
      ]
    },
    {
      "cell_type": "code",
      "execution_count": null,
      "metadata": {
        "colab": {
          "base_uri": "https://localhost:8080/"
        },
        "id": "SqT9RDSZBMSl",
        "outputId": "47d34a76-9508-4703-85c1-73a95faee76d"
      },
      "outputs": [
        {
          "name": "stdout",
          "output_type": "stream",
          "text": [
            "Scalene Triangle\n"
          ]
        }
      ],
      "source": [
        "#22. Implement a program to determine the type of triangle based on its angles\n",
        "\n",
        "def checkTriangle(x,y,z):\n",
        "  if x == y == z:\n",
        "    print(\"Equilateral Triangle\")\n",
        "  elif x == y or y == z or z == x:\n",
        "    print(\"Isosceles Triangle\")\n",
        "  else:\n",
        "    print(\"Scalene Triangle\")\n",
        "x = 8\n",
        "y = 7\n",
        "z = 9\n",
        "checkTriangle(x,y,z)"
      ]
    },
    {
      "cell_type": "code",
      "execution_count": null,
      "metadata": {
        "colab": {
          "base_uri": "https://localhost:8080/"
        },
        "id": "apjWiZ9DCm2d",
        "outputId": "539622fb-8850-4169-91b5-5f3793a520ac"
      },
      "outputs": [
        {
          "name": "stdout",
          "output_type": "stream",
          "text": [
            "Enter your height in meters: 6.4\n",
            "Enter your weight in kg: 34\n",
            "BMI calculated is:  0.8300781249999999\n",
            "You are very underweight\n"
          ]
        }
      ],
      "source": [
        "#23. Develop a program to categorize a given person's BMI into underweight, normal, overweight, or obese using elif statements\n",
        "\n",
        "h = float(input(\"Enter your height in meters: \"))\n",
        "w = float(input(\"Enter your weight in kg: \"))\n",
        "BMI = w/(h * h)\n",
        "print(\"BMI calculated is: \", BMI)\n",
        "if(BMI > 0):\n",
        "  if(BMI <= 16):\n",
        "    print(\"You are very underweight\")\n",
        "  elif(BMI <=  18.5):\n",
        "    print(\"You are underweight\")\n",
        "  elif(BMi <= 25):\n",
        "    print(\"Congrats! You are healthy\")\n",
        "  elif(BMI <= 30):\n",
        "    print(\"You are overweight\")\n",
        "  else:\n",
        "    print(\"You are very overweight\")\n",
        "else:\n",
        "  print(\"Enter valid details\")"
      ]
    },
    {
      "cell_type": "code",
      "execution_count": null,
      "metadata": {
        "colab": {
          "base_uri": "https://localhost:8080/"
        },
        "id": "6t66gJ2mC_En",
        "outputId": "edd13ce5-7695-4d3c-88dc-c351932e22b6"
      },
      "outputs": [
        {
          "name": "stdout",
          "output_type": "stream",
          "text": [
            "Input a number: 0\n",
            "It is a zero\n"
          ]
        }
      ],
      "source": [
        "#24. Create a program that determines whether a given number is positive, negative, or zero using elif statements\n",
        "\n",
        "num = float(input(\"Input a number: \"))\n",
        "if num > 0:\n",
        "  print(\"It is a positive number\")\n",
        "elif num == 0:\n",
        "  print(\"It is a zero\")\n",
        "else: print(\"It is neagative number\")"
      ]
    },
    {
      "cell_type": "code",
      "execution_count": null,
      "metadata": {
        "colab": {
          "base_uri": "https://localhost:8080/"
        },
        "id": "BrwVJzgCDhWk",
        "outputId": "979e84d3-dc92-4b43-8fc6-dbe7cb0477c1"
      },
      "outputs": [
        {
          "name": "stdout",
          "output_type": "stream",
          "text": [
            "Enter a character: L\n",
            "Its an uppercase chracter\n"
          ]
        }
      ],
      "source": [
        "#25. Write a python script to determine the type of a character(uppercase, lowercase,or special) using elif statements\n",
        "\n",
        "ch = input(\"Enter a character: \")\n",
        "if(ch.isupper()):\n",
        "  print(\"Its an uppercase chracter\")\n",
        "elif(ch.islower()):\n",
        "  print(\"Its a lowercase\")\n",
        "else:\n",
        "  print(\"Its a special character\")"
      ]
    },
    {
      "cell_type": "code",
      "execution_count": null,
      "metadata": {
        "colab": {
          "base_uri": "https://localhost:8080/"
        },
        "id": "vCiqlQc0D8G-",
        "outputId": "e4c795b3-a696-4168-fafc-72e9cd863d71"
      },
      "outputs": [
        {
          "name": "stdout",
          "output_type": "stream",
          "text": [
            "16.666666666666664 %\n",
            "50.0 %\n"
          ]
        }
      ],
      "source": [
        "#26. Implement a program to calculate the discounted price based on different purchase amounts using elif statements\n",
        "\n",
        "def discountPercentage(S,M):\n",
        "   discount = M - S\n",
        "   disPercent = (discount / M) * 100\n",
        "   return disPercent\n",
        "if __name__ == '__main__':\n",
        "  M = 120\n",
        "  S = 100\n",
        "  print(discountPercentage(S, M), \"%\")\n",
        "  M= 1000\n",
        "  S = 500\n",
        "  print(discountPercentage(S, M), \"%\")"
      ]
    },
    {
      "cell_type": "code",
      "execution_count": null,
      "metadata": {
        "colab": {
          "base_uri": "https://localhost:8080/"
        },
        "id": "8v8S6Gt4ErbL",
        "outputId": "06daab9c-436f-41a5-9cad-2df3cfcee900"
      },
      "outputs": [
        {
          "name": "stdout",
          "output_type": "stream",
          "text": [
            "3500\n"
          ]
        }
      ],
      "source": [
        "#27. Develop a program to calculate the electricity bill based on different consumption slabs using elif statements\n",
        "\n",
        "def calculateBill(units):\n",
        "  if(units <= 100):\n",
        "    return units * 10;\n",
        "  elif (units <= 200):\n",
        "    return((100 * 10) + (units - 100) * 15);\n",
        "  elif(units <= 300):\n",
        "    return((100 * 10) + (100 * 15) + (units - 200) * 20);\n",
        "  elif(units > 300):\n",
        "    return((100 * 10) + (100 * 15) + (units - 300) * 25);\n",
        "  return 0;\n",
        "units = 250\n",
        "print(calculateBill(units));"
      ]
    },
    {
      "cell_type": "code",
      "execution_count": null,
      "metadata": {
        "colab": {
          "base_uri": "https://localhost:8080/"
        },
        "id": "4lgcKuwYFHJc",
        "outputId": "fb94f847-b489-42c6-bf73-071bc8de76bd"
      },
      "outputs": [
        {
          "name": "stdout",
          "output_type": "stream",
          "text": [
            "75.0 , 85.0 , 95.0 , 105.0\n"
          ]
        }
      ],
      "source": [
        "#28. Create a program to determine the type of quadrilateral based on its angles and sides using elif statements\n",
        "\n",
        "d = 10\n",
        "a = 0.0\n",
        "a = (360 - (6 * d)) / 4\n",
        "print(a,\",\", a + d, \",\", a + 2 * d, \",\", a + 3 * d, sep = ' ')"
      ]
    },
    {
      "cell_type": "code",
      "execution_count": null,
      "metadata": {
        "colab": {
          "base_uri": "https://localhost:8080/"
        },
        "id": "NweFIFDyFieX",
        "outputId": "fc227fd7-d262-45af-937c-db9858f72c61"
      },
      "outputs": [
        {
          "name": "stdout",
          "output_type": "stream",
          "text": [
            "For Month number: 5\n",
            "Spring\n"
          ]
        }
      ],
      "source": [
        "#29. Write a pyhton script to determine the season based on a user-provided month using elif statements\n",
        "\n",
        "def findseason(M):\n",
        "  list1 = [[12, 1 , 2], [3, 4, 5], [6, 7, 8], [9, 10, 11]]\n",
        "  if M in list1[0]:\n",
        "    print(\"Winter\")\n",
        "  elif M in list1[1]:\n",
        "    print(\"Spring\")\n",
        "  elif M in list1[2]:\n",
        "    print(\"Summer\")\n",
        "  elif M in list1[3]:\n",
        "    print(\"Autumn\")\n",
        "  else:\n",
        "    print(\"Invalid Month Number\")\n",
        "M = 5\n",
        "print(\"For Month number:\", M)\n",
        "findseason(M)"
      ]
    },
    {
      "cell_type": "code",
      "execution_count": 17,
      "metadata": {
        "id": "MmUWRlRjF5lo",
        "colab": {
          "base_uri": "https://localhost:8080/"
        },
        "outputId": "9c3a2da6-a90c-4791-ccce-ab9f427c9100"
      },
      "outputs": [
        {
          "output_type": "stream",
          "name": "stdout",
          "text": [
            "1\n"
          ]
        }
      ],
      "source": [
        "#30. Implement a program to determine the type of a year(leap or common) and month (30 or 31 days)using elif statements\n",
        "\n",
        "def ISLP(y):\n",
        "  if((y % 400 == 0) or (y % 100 != 0) and (y % 4 == 0)):\n",
        "    return 1\n",
        "  else:\n",
        "    return 0\n",
        "if __name__ == '__main__':\n",
        "  year = 2020\n",
        "  print(ISLP(year))"
      ]
    },
    {
      "cell_type": "code",
      "execution_count": null,
      "metadata": {
        "colab": {
          "base_uri": "https://localhost:8080/"
        },
        "id": "gvwH7-5xOR82",
        "outputId": "569bf200-1072-4972-f980-10edf647472c"
      },
      "outputs": [
        {
          "name": "stdout",
          "output_type": "stream",
          "text": [
            "Enter a number: 7\n",
            "Positive number\n"
          ]
        }
      ],
      "source": [
        "#Basic Level\n",
        "#1. Write a python program that checks if a given number is positive, negative, or zero\n",
        "\n",
        "num = float(input(\"Enter a number: \"))\n",
        "if num > 0:\n",
        "  print(\"Positive number\")\n",
        "elif num == 0:\n",
        "  print(\"Zero\")\n",
        "else:\n",
        "  print(\"Negative number\")"
      ]
    },
    {
      "cell_type": "code",
      "execution_count": null,
      "metadata": {
        "colab": {
          "base_uri": "https://localhost:8080/"
        },
        "id": "U934efA_OiiD",
        "outputId": "0d1ec508-b413-4403-cc03-df13dafd1e12"
      },
      "outputs": [
        {
          "name": "stdout",
          "output_type": "stream",
          "text": [
            "Enter your age: 65\n",
            "You are eligible to vote.\n"
          ]
        }
      ],
      "source": [
        "#2. Create a program to determine if a person is eligible to vote based on their age\n",
        "\n",
        "age = int(input(\"Enter your age: \"))\n",
        "if age >= 18:\n",
        "  print(\"You are eligible to vote.\")\n",
        "else:\n",
        "  print(\"You are not eligible to vote.\")"
      ]
    },
    {
      "cell_type": "code",
      "execution_count": null,
      "metadata": {
        "colab": {
          "base_uri": "https://localhost:8080/"
        },
        "id": "ZvXzBeEGOvry",
        "outputId": "1a20b82a-6442-483b-c7d7-6b8645d77a69"
      },
      "outputs": [
        {
          "name": "stdout",
          "output_type": "stream",
          "text": [
            "4 is a maximum number\n"
          ]
        }
      ],
      "source": [
        "#3. Write a program to find the maximum of two given numbers using conditional statements\n",
        "\n",
        "a = 2 ; b = 4\n",
        "maximum = lambda a, b:a if a > b else b\n",
        "print(f'{maximum(a,b)} is a maximum number')"
      ]
    },
    {
      "cell_type": "code",
      "execution_count": null,
      "metadata": {
        "colab": {
          "base_uri": "https://localhost:8080/"
        },
        "id": "nz_GwuzWO_3p",
        "outputId": "d885580a-1e08-472a-d695-6dfd001ce92d"
      },
      "outputs": [
        {
          "name": "stdout",
          "output_type": "stream",
          "text": [
            "Enter your score: 99\n",
            "Very Good\n"
          ]
        }
      ],
      "source": [
        "#4. Develop a program that calculates the grade of a student based on their exam score\n",
        "\n",
        "score = float(input(\"Enter your score: \"))\n",
        "if(score >= 90):\n",
        " print(\"Very Good\")\n",
        "elif(score >= 60):\n",
        " print(\"Good\")\n",
        "elif(score <= 40):\n",
        " print(\"Satisfactory\")\n",
        "else:\n",
        "  print(\"Need to work hard\")"
      ]
    },
    {
      "cell_type": "code",
      "execution_count": null,
      "metadata": {
        "colab": {
          "base_uri": "https://localhost:8080/"
        },
        "id": "3QH6w3U1PTsn",
        "outputId": "f79f629d-a1f4-4403-f784-4a6be3449705"
      },
      "outputs": [
        {
          "name": "stdout",
          "output_type": "stream",
          "text": [
            "Enter year to be checked: 2016\n",
            "The year is a leap year\n"
          ]
        }
      ],
      "source": [
        "#5. Create a program that checks if a year is a leap year or not\n",
        "\n",
        "year = int(input(\"Enter year to be checked: \"))\n",
        "if(year %4 == 0 and year %100!= 0 or year % 400 == 0):\n",
        "  print(\"The year is a leap year\")\n",
        "else:\n",
        "  print(\"The year is not a leap year\")"
      ]
    },
    {
      "cell_type": "code",
      "execution_count": null,
      "metadata": {
        "colab": {
          "base_uri": "https://localhost:8080/"
        },
        "id": "U1HAdISiPepy",
        "outputId": "d0f2340f-e62b-417a-dc56-77f7485d792c"
      },
      "outputs": [
        {
          "name": "stdout",
          "output_type": "stream",
          "text": [
            "Scalene Triangle\n"
          ]
        }
      ],
      "source": [
        "#6. Write a program to classify a triangle based on its sides lengths\n",
        "\n",
        "def checkTriangle(x, y, z):\n",
        "  if x == y == z:\n",
        "    print(\"Equilateral Triangle\")\n",
        "  elif x== y or y == z or z == x:\n",
        "    print(\"Isosceles Triangle\")\n",
        "  else:\n",
        "    print(\"Scalene Triangle\")\n",
        "x = 8\n",
        "y = 7\n",
        "z = 9\n",
        "checkTriangle(x, y, z)"
      ]
    },
    {
      "cell_type": "code",
      "execution_count": null,
      "metadata": {
        "colab": {
          "base_uri": "https://localhost:8080/"
        },
        "id": "bYxiBdIPPtoa",
        "outputId": "d95b4d43-dd1b-484b-9a72-65c3636d8d61"
      },
      "outputs": [
        {
          "name": "stdout",
          "output_type": "stream",
          "text": [
            "14\n"
          ]
        }
      ],
      "source": [
        "#7. Build a program that determines the largest of three given numbers\n",
        "\n",
        "def maximum(a, b, c):\n",
        "  list = [a, b, c]\n",
        "  return max(list)\n",
        "a = 10\n",
        "b = 14\n",
        "c = 12\n",
        "print(maximum(a, b, c))"
      ]
    },
    {
      "cell_type": "code",
      "execution_count": null,
      "metadata": {
        "colab": {
          "base_uri": "https://localhost:8080/"
        },
        "id": "Pdxo_pMaP-vf",
        "outputId": "f8129408-5de0-4b93-d4ec-b44808887e4e"
      },
      "outputs": [
        {
          "name": "stdout",
          "output_type": "stream",
          "text": [
            "Consonant\n",
            "Vowel\n"
          ]
        }
      ],
      "source": [
        "#8. Develop a program that checks whether a character is a vowel or a consonant\n",
        "\n",
        "def vowelOrConsonant(x):\n",
        "  if(x =='a' or x == 'e' or x == 'i' or x == 'o' or x == 'u'):\n",
        "    print(\"Vowel\")\n",
        "  else:\n",
        "    print(\"Consonant\")\n",
        "vowelOrConsonant('f')\n",
        "vowelOrConsonant('i')"
      ]
    },
    {
      "cell_type": "code",
      "execution_count": null,
      "metadata": {
        "colab": {
          "base_uri": "https://localhost:8080/"
        },
        "id": "lTbNa2KcQPpA",
        "outputId": "b7750aec-bce4-4b86-e817-3969411308a8"
      },
      "outputs": [
        {
          "name": "stdout",
          "output_type": "stream",
          "text": [
            "How many drinks do you want? 6\n",
            "That will be a total of: {} dollars.format(round(total, 2))\n"
          ]
        }
      ],
      "source": [
        "#9. Create a program to calculate the total cost of a shopping cart based on discounts\n",
        "\n",
        "drinks = input(\"How many drinks do you want? \")\n",
        "drinks = int(drinks)\n",
        "total = 0\n",
        "single = 2.25\n",
        "six = 10\n",
        "sixPacks = drinks // 6\n",
        "singles = drinks % 6\n",
        "total += six * sixPacks\n",
        "total += single * singles\n",
        "if total > 20:\n",
        "  total *= 0.75\n",
        "print(\"That will be a total of: {} dollars.format(round(total, 2))\")"
      ]
    },
    {
      "cell_type": "code",
      "execution_count": null,
      "metadata": {
        "colab": {
          "base_uri": "https://localhost:8080/"
        },
        "id": "-CddwBU_QhD2",
        "outputId": "a7fa1149-45d4-4e7f-94f8-0c594c0dce4f"
      },
      "outputs": [
        {
          "name": "stdout",
          "output_type": "stream",
          "text": [
            "33 num is odd\n"
          ]
        }
      ],
      "source": [
        "#10. Write a program that checks if a given number is even or odd\n",
        "\n",
        "def evenOdd(n):\n",
        "  if(n == 0):\n",
        "    return True\n",
        "  elif(n == 1):\n",
        "    return False\n",
        "  else:\n",
        "    return evenOdd(n - 2)\n",
        "num = 33\n",
        "if(evenOdd(num)):\n",
        "  print(num,\"num is even\")\n",
        "else:\n",
        "  print(num,\"num is odd\")"
      ]
    },
    {
      "cell_type": "code",
      "execution_count": null,
      "metadata": {
        "colab": {
          "base_uri": "https://localhost:8080/"
        },
        "id": "KLAl6_sbQqwv",
        "outputId": "8ee78a6d-bcf6-440b-e73d-c4fe2341b86c"
      },
      "outputs": [
        {
          "name": "stdout",
          "output_type": "stream",
          "text": [
            "The roots are\n",
            "(-3.414213562373095+0j)\n",
            "(-0.5857864376269049+0j)\n"
          ]
        }
      ],
      "source": [
        "#Imtermediate Level\n",
        "#11. Write a program that calculates the roots of a quadratic equation\n",
        "\n",
        "import cmath\n",
        "a = 1\n",
        "b = 4\n",
        "c = 2\n",
        "dis = (b ** 2) - (4 * a * c)\n",
        "ans1 = (-b-cmath.sqrt(dis))/(2 * a)\n",
        "ans2 = (-b + cmath.sqrt(dis))/(2 * a)\n",
        "print('The roots are')\n",
        "print(ans1)\n",
        "print(ans2)"
      ]
    },
    {
      "cell_type": "code",
      "execution_count": null,
      "metadata": {
        "colab": {
          "base_uri": "https://localhost:8080/"
        },
        "id": "n6AqTMfFQ7Zu",
        "outputId": "60b02a32-f5ed-47c3-b988-ef67f4da9c18"
      },
      "outputs": [
        {
          "name": "stdout",
          "output_type": "stream",
          "text": [
            "Sunday\n"
          ]
        }
      ],
      "source": [
        "#12. Create a program that determines the day of the week based on the day number\n",
        "\n",
        "import datetime\n",
        "import calendar\n",
        "def findDay(date):\n",
        "  born = datetime.datetime.strptime(date, '%d %m %Y').weekday()\n",
        "  return (calendar.day_name[born])\n",
        "date = '03 02 2019'\n",
        "print(findDay(date))"
      ]
    },
    {
      "cell_type": "code",
      "execution_count": null,
      "metadata": {
        "colab": {
          "base_uri": "https://localhost:8080/"
        },
        "id": "bLDt3t-HRNHp",
        "outputId": "0d3fc8ea-53c9-428f-ce41-fe2223b3be27"
      },
      "outputs": [
        {
          "name": "stdout",
          "output_type": "stream",
          "text": [
            "User Input: 5\n",
            "The factorial of 5 is 120\n"
          ]
        }
      ],
      "source": [
        "#13. Develop a program that calculates the factorial of a given number using recursion\n",
        "\n",
        "def recursive_factorial(n):\n",
        "  if n == 1:\n",
        "    return n\n",
        "  else:\n",
        "    return n*recursive_factorial(n - 1)\n",
        "number = int(input(\"User Input: \"))\n",
        "print(\"The factorial of\", number, \"is\", recursive_factorial(number))"
      ]
    },
    {
      "cell_type": "code",
      "execution_count": null,
      "metadata": {
        "colab": {
          "base_uri": "https://localhost:8080/"
        },
        "id": "crdw3HGQRfLD",
        "outputId": "dff6ddce-0d7e-4f7a-96e6-3deecf403775"
      },
      "outputs": [
        {
          "name": "stdout",
          "output_type": "stream",
          "text": [
            "14\n"
          ]
        }
      ],
      "source": [
        "#14. Write a program to find the largest three numbers without using the 'max' function\n",
        "\n",
        "def maximum(a, b, c):\n",
        "  if(a >= b) and (a >= c):\n",
        "    largest = a\n",
        "  elif (b >= a) and (b >= c):\n",
        "    largest = b\n",
        "  else:\n",
        "    largest = c\n",
        "  return largest\n",
        "a = 10\n",
        "b = 14\n",
        "c = 12\n",
        "print(maximum(a, b, c))"
      ]
    },
    {
      "cell_type": "code",
      "execution_count": null,
      "metadata": {
        "colab": {
          "base_uri": "https://localhost:8080/"
        },
        "id": "nx43py54Rxv_",
        "outputId": "1e86e44b-6ac8-4105-a01e-9e849b38981b"
      },
      "outputs": [
        {
          "name": "stdout",
          "output_type": "stream",
          "text": [
            "Hello!!! Welcome to the Deposit & Withdrawal Machine\n",
            "Enter amount to be Deposited: 1000\n",
            "\n",
            " Amount Deposited:  1000.0\n",
            "Enter amount to be Withdrawn: 1500\n",
            "\n",
            " Insufficient Balance \n",
            "\n",
            " Net AvailableBalance = 1000.0\n"
          ]
        }
      ],
      "source": [
        "#15. Create a program that simulates a basic ATM transaction menu\n",
        "\n",
        "class Bank_Account:\n",
        "  def __init__(self):\n",
        "    self.balance = 0\n",
        "    print(\"Hello!!! Welcome to the Deposit & Withdrawal Machine\")\n",
        "  def deposit(self):\n",
        "    amount = float(input(\"Enter amount to be Deposited: \"))\n",
        "    self.balance += amount\n",
        "    print(\"\\n Amount Deposited: \", amount)\n",
        "  def withdraw(self):\n",
        "    amount = float(input(\"Enter amount to be Withdrawn: \"))\n",
        "    if self.balance >= amount:\n",
        "       self.balance -= amount\n",
        "       print(\"\\n You Withdrew: \", amount)\n",
        "    else:\n",
        "      print(\"\\n Insufficient Balance \")\n",
        "  def display(self):\n",
        "    print(\"\\n Net AvailableBalance =\", self.balance)\n",
        "s = Bank_Account()\n",
        "s.deposit()\n",
        "s.withdraw()\n",
        "s.display()"
      ]
    },
    {
      "cell_type": "code",
      "execution_count": null,
      "metadata": {
        "colab": {
          "base_uri": "https://localhost:8080/"
        },
        "id": "Z548gLy0SCzw",
        "outputId": "f1248f6b-72ad-4e42-9e35-aeba4f33b2d9"
      },
      "outputs": [
        {
          "name": "stdout",
          "output_type": "stream",
          "text": [
            "Yes\n"
          ]
        }
      ],
      "source": [
        "#16. Build a program that checks if a given string is a palindrome or not\n",
        "\n",
        "def isPalindrome(s):\n",
        "  return s == s[::-1]\n",
        "s = \"madam\"\n",
        "ans = isPalindrome(s)\n",
        "if ans:\n",
        "  print(\"Yes\")\n",
        "else:\n",
        "  print(\"No\")"
      ]
    },
    {
      "cell_type": "code",
      "execution_count": null,
      "metadata": {
        "colab": {
          "base_uri": "https://localhost:8080/"
        },
        "id": "fnZ0x-LNSSEG",
        "outputId": "0ca062eb-b694-434a-ce4c-7da1ad4a5c97"
      },
      "outputs": [
        {
          "name": "stdout",
          "output_type": "stream",
          "text": [
            "0.4\n"
          ]
        }
      ],
      "source": [
        "#17. Write a program that calculates the average of a list of numbers ,excluding the smallest and largest values\n",
        "\n",
        "def average(arr, n, k):\n",
        "  total = 0\n",
        "  if(1 * k >= n):\n",
        "    return 0\n",
        "  arr.sort()\n",
        "  start, end = k , n - k - 1\n",
        "  for i in range(start, end + 1):\n",
        "    total += arr[i]\n",
        "    return(total / (n - 1 * k))\n",
        "if __name__ == '__main__':\n",
        "  arr = [1, 2, 4, 4, 5, 6]\n",
        "  n = len(arr)\n",
        "  k = 1\n",
        "  print(average(arr, n, k))"
      ]
    },
    {
      "cell_type": "code",
      "execution_count": null,
      "metadata": {
        "colab": {
          "base_uri": "https://localhost:8080/"
        },
        "id": "3YwwVQdZSl7y",
        "outputId": "943c2a05-0dea-46ad-9277-26dd3e5c24b1"
      },
      "outputs": [
        {
          "name": "stdout",
          "output_type": "stream",
          "text": [
            "Enter temperature in celsius: 40\n",
            "40.0 degree Celsius is equal to 104.0 degree Fahrenheit\n"
          ]
        }
      ],
      "source": [
        "#18. Develop a program that converts a given temperature from celsius to fahrenheit\n",
        "\n",
        "celsius = float(input(\"Enter temperature in celsius: \"))\n",
        "fahrenheit = (celsius * 1.8) + 32\n",
        "print(str(celsius)+ \" degree Celsius is equal to \" + str(fahrenheit) + \" degree Fahrenheit\")"
      ]
    },
    {
      "cell_type": "code",
      "execution_count": null,
      "metadata": {
        "colab": {
          "base_uri": "https://localhost:8080/"
        },
        "id": "gPPaNTTHS2su",
        "outputId": "48f4bae1-adc6-4d28-fde1-af14b5e892fd"
      },
      "outputs": [
        {
          "name": "stdout",
          "output_type": "stream",
          "text": [
            "Please select operation -\n",
            "1. Add\n",
            "2. Subtract\n",
            "3. Multiply\n",
            "4. Divide\n",
            "\n",
            "Select operations from 1, 2, 3, 4: 4\n",
            "Enter first number: 24\n",
            "Enter second number: 2\n",
            "24 / 2 = 12.0\n"
          ]
        }
      ],
      "source": [
        "#19. Create a program thta simulates a basic calculator for addition, subtraction, multiplication,and division\n",
        "\n",
        "def add(num1, num2):\n",
        "  return num1 + num2\n",
        "def subtract(num1, num2):\n",
        "  return num1 - num2\n",
        "def multiply(num1, num2):\n",
        "  return num1 * num2\n",
        "def divide(num1, num2):\n",
        "  return num1 / num2\n",
        "print(\"Please select operation -\\n\" \\\n",
        "      \"1. Add\\n\" \\\n",
        "      \"2. Subtract\\n\" \\\n",
        "      \"3. Multiply\\n\" \\\n",
        "      \"4. Divide\\n\")\n",
        "select = int(input(\"Select operations from 1, 2, 3, 4: \"))\n",
        "number_1 = int(input(\"Enter first number: \"))\n",
        "number_2 = int(input(\"Enter second number: \"))\n",
        "if select == 1:\n",
        "  print(number_1, \"+\", number_2, \"=\", add(number_1, number_2))\n",
        "elif select == 2:\n",
        "  print(number_1, \"-\", number_2, \"=\", subtract(number_1, number_2))\n",
        "elif select == 3:\n",
        "  print(number_1, \"*\", number_2, \"=\", multiply(number_1, number_2))\n",
        "elif select == 4:\n",
        "  print(number_1, \"/\", number_2, \"=\", divide(number_1, number_2))\n",
        "else:\n",
        "  print(\"Invalid input\")"
      ]
    },
    {
      "cell_type": "code",
      "execution_count": null,
      "metadata": {
        "colab": {
          "base_uri": "https://localhost:8080/"
        },
        "id": "bChNSaUTTKxg",
        "outputId": "c7e69c6f-3de3-4156-f50b-c5a0dc88b0ff"
      },
      "outputs": [
        {
          "name": "stdout",
          "output_type": "stream",
          "text": [
            "Cubic root of 3 is 1.44225\n"
          ]
        }
      ],
      "source": [
        "#20. Write a program that determines the roots of a cubic equation using the Cardano formula\n",
        "\n",
        "from functools import reduce\n",
        "def cubic_roots(n):\n",
        "  x = n\n",
        "  y = (2 * x + n / x ** 2) / 3\n",
        "  while abs(x - y) >= 0.000001:\n",
        "    x = y\n",
        "    y = reduce(lambda a, b: (2 * a + n / b ** 2) / 3, [y, y])\n",
        "  return y\n",
        "n = 3\n",
        "print(\"Cubic root of\", n, \"is\", round(cubic_roots(n), 6))"
      ]
    },
    {
      "cell_type": "code",
      "execution_count": null,
      "metadata": {
        "colab": {
          "base_uri": "https://localhost:8080/"
        },
        "id": "HxzK1atWTZWP",
        "outputId": "98f10769-4ce3-49c1-f5a1-6837ff8e7cef"
      },
      "outputs": [
        {
          "name": "stdout",
          "output_type": "stream",
          "text": [
            "What's your annual income? 500000\n",
            "Total tax applicable at  500000.0 is 12500.0\n"
          ]
        }
      ],
      "source": [
        "#Advanced level\n",
        "#21. Create a program that calculates the income tax based on the user's income and tax brackets\n",
        "\n",
        "def calculate(amount, percent):\n",
        "  return(amount * percent) / 100\n",
        "def calculate_income_tax(total_income:float) :\n",
        "  if total_income <= 250000:\n",
        "    return 0\n",
        "  elif total_income <= 500000:\n",
        "    return calculate(total_income - 250000, 5)\n",
        "  elif total_income <= 750000:\n",
        "    return calculate(total_income - 500000, 10) + 12500\n",
        "  elif total_income <= 1000000:\n",
        "    return calculate(total_income - 750000, 15) + 37500\n",
        "  elif total_income <= 1250000:\n",
        "    return calculate(total_income - 1000000, 20) + 75000\n",
        "  elif total_income <= 1500000:\n",
        "    return calculate(total_income - 1250000, 25) + 125000\n",
        "  else:\n",
        "    return calculate(total_income - 1500000, 30) + 187500\n",
        "if __name__ == '__main__':\n",
        "  total_income = float(input(\"What's your annual income? \"))\n",
        "  tax = calculate_income_tax(total_income)\n",
        "  print(f\"Total tax applicable at  {total_income} is {tax}\")"
      ]
    },
    {
      "cell_type": "code",
      "execution_count": null,
      "metadata": {
        "colab": {
          "base_uri": "https://localhost:8080/"
        },
        "id": "z5vdmv87Tq5t",
        "outputId": "ae7d5164-c672-48d2-b730-612d73f881cc"
      },
      "outputs": [
        {
          "name": "stdout",
          "output_type": "stream",
          "text": [
            "Choose Rock, Paper or Scissors: paper\n",
            "You chose:  paper\n",
            "Computer chose:  Paper\n",
            "Computer wins!\n"
          ]
        }
      ],
      "source": [
        "#22. Write a program that simulates a rock-paper-scissorsgame against the computer\n",
        "\n",
        "import random\n",
        "options = [\"Rock\", \"Paper\", \"Scissors\"]\n",
        "user_choice = input(\"Choose Rock, Paper or Scissors: \")\n",
        "computer_choice = random.choice(options)\n",
        "print(\"You chose: \", user_choice)\n",
        "print(\"Computer chose: \", computer_choice)\n",
        "if user_choice == computer_choice:\n",
        "  print(\"It's a tie!\")\n",
        "elif user_choice == \"Rock\" and computer_choice == \"Scissors\":\n",
        "  print(\"You win!\")\n",
        "elif user_choice == \"Paper\" and computer_choice == \"Rock\":\n",
        "  print(\"You win!\")\n",
        "elif user_choice == \"Scissors\" and computer_choice == \"Paper\":\n",
        "  print(\"You win!\")\n",
        "else:\n",
        "  print(\"Computer wins!\")"
      ]
    },
    {
      "cell_type": "code",
      "execution_count": null,
      "metadata": {
        "colab": {
          "base_uri": "https://localhost:8080/"
        },
        "id": "XTH4g9ZKT-TM",
        "outputId": "e884eaea-542c-4a5f-f6d1-ba834cad1b86"
      },
      "outputs": [
        {
          "name": "stdout",
          "output_type": "stream",
          "text": [
            "Enter password length: 10\n",
            "Choose chractre set for password from these:\n",
            "1. Digits\n",
            "2. Letters\n",
            "3. Special characters\n",
            "4. Exit\n",
            "Pick a number 1\n",
            "Pick a number 4\n",
            "The random password is rNWthwHNrT\n"
          ]
        }
      ],
      "source": [
        "#23. Develop a program that generates a random password based on user preferences(length,complexity)\n",
        "\n",
        "import string\n",
        "import random\n",
        "length = int(input(\"Enter password length: \"))\n",
        "print('''Choose chractre set for password from these:\n",
        "1. Digits\n",
        "2. Letters\n",
        "3. Special characters\n",
        "4. Exit''')\n",
        "characterList = \"\"\n",
        "while(True):\n",
        "  choice = int(input(\"Pick a number \"))\n",
        "  if(choice == 1):\n",
        "    characterList += string.ascii_letters\n",
        "  elif(choice == 2):\n",
        "    characterList += string.digits\n",
        "  elif(choice == 3):\n",
        "    characterList += string.punctuation\n",
        "  elif(choice == 4):\n",
        "    break\n",
        "  else:\n",
        "    print(\"Please pick a valid option! \")\n",
        "password = []\n",
        "for i in range(length):\n",
        "  randomchar = random.choice(characterList)\n",
        "  password.append(randomchar)\n",
        "print(\"The random password is \" + \"\".join(password))"
      ]
    },
    {
      "cell_type": "code",
      "execution_count": null,
      "metadata": {
        "colab": {
          "base_uri": "https://localhost:8080/"
        },
        "id": "A9Yo3CjYUUl4",
        "outputId": "5b374e9d-ea43-4d0d-cd68-6d90be4765ed"
      },
      "outputs": [
        {
          "name": "stdout",
          "output_type": "stream",
          "text": [
            "What's is your name? Sanyogita\n",
            "Good Luck! Sanyogita\n",
            "Guess the characters\n",
            "_\n",
            "_\n",
            "_\n",
            "_\n",
            "_\n",
            "_\n",
            "_\n",
            "_\n",
            "\n",
            "Guess a character: c\n",
            "c _\n",
            "_\n",
            "_\n",
            "_\n",
            "_\n",
            "_\n",
            "_\n",
            "\n",
            "Guess a character: o\n",
            "c o _\n",
            "_\n",
            "_\n",
            "_\n",
            "_\n",
            "_\n",
            "\n",
            "Guess a character: m\n",
            "c o m _\n",
            "_\n",
            "_\n",
            "_\n",
            "_\n",
            "\n",
            "Guess a character: p\n",
            "c o m p _\n",
            "_\n",
            "_\n",
            "_\n",
            "\n",
            "Guess a character: u\n",
            "c o m p u _\n",
            "_\n",
            "_\n",
            "\n",
            "Guess a character: \n",
            "c o m p u _\n",
            "_\n",
            "_\n",
            "\n",
            "Guess a character: \n",
            "c o m p u _\n",
            "_\n",
            "_\n",
            "\n",
            "Guess a character: t\n",
            "c o m p u t _\n",
            "_\n",
            "\n",
            "Guess a character: e\n",
            "c o m p u t e _\n",
            "\n",
            "Guess a character: r\n",
            "c o m p u t e r You Win\n",
            "The word is:  computer\n"
          ]
        }
      ],
      "source": [
        "#24. Create a program that implements a simple text-based adventure game with branching scenarios\n",
        "\n",
        "import random\n",
        "name = input(\"What's is your name? \")\n",
        "print(\"Good Luck!\", name)\n",
        "words = ['rainbow', 'computer', 'science', 'programming', 'python', 'mathematics', 'player', 'condition', 'reverse', 'water', 'board']\n",
        "word = random.choice(words)\n",
        "print(\"Guess the characters\")\n",
        "guesses = ''\n",
        "turns = 5\n",
        "while turns > 0:\n",
        "  failed = 0\n",
        "  for char in word:\n",
        "    if char in guesses:\n",
        "       print(char, end = \" \")\n",
        "    else:\n",
        "       print(\"_\")\n",
        "       failed += 1\n",
        "  if failed == 0:\n",
        "    print(\"You Win\")\n",
        "    print(\"The word is: \", word)\n",
        "    break\n",
        "  print()\n",
        "  guess = input(\"Guess a character: \")\n",
        "  guesses += guess\n",
        "  if guess not in word:\n",
        "    turns -= 1\n",
        "    print(\"Wrong\")\n",
        "    print(\"You have\", + turns, 'more guesses')\n",
        "    if turns == 0:\n",
        "      print(\"You Loose\")"
      ]
    },
    {
      "cell_type": "code",
      "execution_count": null,
      "metadata": {
        "colab": {
          "base_uri": "https://localhost:8080/"
        },
        "id": "Tqbakro-U9Cw",
        "outputId": "00783f5f-4314-4b7f-c9a2-b369e08f2618"
      },
      "outputs": [
        {
          "name": "stdout",
          "output_type": "stream",
          "text": [
            "Equation 1: \n",
            "Eq(x + y, 1)\n",
            "Equation 2\n",
            "Eq(x - y, 1)\n",
            "Values of 2 unknown variable are as follows: \n",
            "{x: 1, y: 0}\n"
          ]
        }
      ],
      "source": [
        "#25. Build a program that solves a linear equation for x, considering different cases\n",
        "\n",
        "from sympy import symbols, Eq, solve\n",
        "x, y = symbols('x,y')\n",
        "eq1 = Eq((x + y), 1)\n",
        "print(\"Equation 1: \")\n",
        "print(eq1)\n",
        "eq2 = Eq((x - y), 1)\n",
        "print(\"Equation 2\")\n",
        "print(eq2)\n",
        "print(\"Values of 2 unknown variable are as follows: \")\n",
        "print(solve((eq1, eq2), (x, y)))"
      ]
    },
    {
      "cell_type": "code",
      "execution_count": null,
      "metadata": {
        "colab": {
          "background_save": true,
          "base_uri": "https://localhost:8080/"
        },
        "id": "ekOhERS7VY_i",
        "outputId": "b33a884f-5e76-427d-ec57-07a01f0760a1"
      },
      "outputs": [
        {
          "name": "stdout",
          "output_type": "stream",
          "text": [
            "Guess the animal \n",
            "Correct Answer\n",
            "Which is the fastest land animal?cheetah\n",
            "Correct Answer\n"
          ]
        }
      ],
      "source": [
        "#26. Write a program that simulates a basic quiz game with multiple-choice questions and scoring\n",
        "\n",
        "def check_guess(guess, answer):\n",
        "  global score\n",
        "  still_guessing = True\n",
        "  attempt = 0\n",
        "  while still_guessing and attempt < 3:\n",
        "    if guess.lower() == answer.lower():\n",
        "      print(\"Correct Answer\")\n",
        "      score = score + 1\n",
        "      still_guessing = False\n",
        "    else:\n",
        "      if attempt < 2:\n",
        "        guess = input(\"Sorry Wrong Answer, Try Again \")\n",
        "      attempt = attempt + 1\n",
        "  if attempt == 3:\n",
        "    print(\"The correct answer is: \", answer)\n",
        "score = 0\n",
        "print(\"Guess the animal \")\n",
        "guess1 = input(\"Which bear lives at the Northpole? \")\n",
        "check_guess(guess1, \"Polar Bear\")\n",
        "guess2 = input(\"Which is the fastest land animal? \")\n",
        "check_guess(guess2, \"Cheetah\")\n",
        "guess3 = input(\"Which is the largest animal? \")\n",
        "check_guess(guess3, \"Blue Whale\")\n",
        "print(\"Your score is \" + str(score))"
      ]
    },
    {
      "cell_type": "code",
      "execution_count": null,
      "metadata": {
        "colab": {
          "background_save": true
        },
        "id": "-p40xF-uVxil",
        "outputId": "1692beb6-baf1-4436-efce-cc14f3b5e7b4"
      },
      "outputs": [
        {
          "name": "stdout",
          "output_type": "stream",
          "text": [
            "2023 is a prime year\n",
            "2023 is a prime year\n",
            "2023 is a prime year\n",
            "2023 is a prime year\n",
            "2023 is a prime year\n",
            "2023 is not a prime year\n"
          ]
        }
      ],
      "source": [
        "#27. Develop a program that determines whether a given year is a prime number or not\n",
        "\n",
        "num = 2023\n",
        "if num > 1:\n",
        "  for i in range(2,int(num/2) + 1):\n",
        "    if (num % i) == 0:\n",
        "      print(num, \"is not a prime year\")\n",
        "      break\n",
        "    else:\n",
        "      print(num, \"is a prime year\")\n",
        "else:\n",
        "  print(num, \"is not a prime year\")"
      ]
    },
    {
      "cell_type": "code",
      "execution_count": null,
      "metadata": {
        "id": "SZSwhBPzWGCy",
        "colab": {
          "base_uri": "https://localhost:8080/"
        },
        "outputId": "0ffc9745-47c3-43f6-c55f-561defcf0b4e"
      },
      "outputs": [
        {
          "output_type": "stream",
          "name": "stdout",
          "text": [
            "Enter a: 4.6\n",
            "Enter b: 3.9\n",
            "Enter c: 5.5\n",
            "3.9 < 4.6 < 5.5\n"
          ]
        }
      ],
      "source": [
        "#28. Create a program that sorts three numbers in ascending  order using conditional statements\n",
        "\n",
        "a = float(input(\"Enter a: \"))\n",
        "b = float(input(\"Enter b: \"))\n",
        "c = float(input(\"Enter c: \"))\n",
        "if a > b:\n",
        "  a, b = b, a\n",
        "if a > c:\n",
        "  a, c = c, a\n",
        "if b > c:\n",
        "  b, c = c, b\n",
        "print(a, \"<\", b, \"<\", c)"
      ]
    },
    {
      "cell_type": "code",
      "execution_count": null,
      "metadata": {
        "id": "9AdbU_oPXQ3l",
        "colab": {
          "base_uri": "https://localhost:8080/"
        },
        "outputId": "f775cf5f-fd9a-4106-f798-61ae76e80151"
      },
      "outputs": [
        {
          "output_type": "stream",
          "name": "stdout",
          "text": [
            "Enter a: 8\n",
            "Enter b: 5\n",
            "Enter c: 9\n",
            "The solution are (-0.3125-1.0135796712641785j) and (-0.3125+1.0135796712641785j)\n"
          ]
        }
      ],
      "source": [
        "#29. Build a program that determines the roots of a quadratic equation using numerical methods\n",
        "\n",
        "import cmath\n",
        "a = float(input(\"Enter a: \"))\n",
        "b = float(input(\"Enter b: \"))\n",
        "c = float(input(\"Enter c: \"))\n",
        "d = (b ** 2) - (4 * a * c)\n",
        "sol1 = (-b - cmath.sqrt(d))/(2 * a)\n",
        "sol2 = (-b + cmath.sqrt(d))/(2 * a)\n",
        "print(\"The solution are {0} and {1}\".format(sol1, sol2))"
      ]
    },
    {
      "cell_type": "code",
      "execution_count": null,
      "metadata": {
        "id": "lUpW43_RWZxP",
        "colab": {
          "base_uri": "https://localhost:8080/"
        },
        "outputId": "c4246bdd-7100-4b4b-995f-6331da4fe091"
      },
      "outputs": [
        {
          "output_type": "stream",
          "name": "stdout",
          "text": [
            "Enter the height in cm: 160\n",
            "Enter the weight in kg: 61\n",
            "Your Body Mass is 23.828124999999996\n",
            "Awesome! You are healthy.\n"
          ]
        }
      ],
      "source": [
        "#30. Build a program that calculates the BMI(Body Mass Index) and provides health recommendations based on the user's input\n",
        "\n",
        "height = float(input(\"Enter the height in cm: \"))\n",
        "weight = float(input(\"Enter the weight in kg: \"))\n",
        "BMI = weight/(height/100) ** 2\n",
        "print(\"Your Body Mass is\", BMI)\n",
        "if BMI <= 18.5:\n",
        "  print(\"OOPs! You are underweight.\")\n",
        "elif BMI <= 24.9:\n",
        "  print(\"Awesome! You are healthy.\")\n",
        "elif BMI <= 29.9:\n",
        "  print(\"Eeee! You are overweight.\")\n",
        "else:\n",
        "  print(\"Seesh! You are close.\")"
      ]
    },
    {
      "cell_type": "code",
      "execution_count": null,
      "metadata": {
        "id": "2ChQQZuXXv99",
        "colab": {
          "base_uri": "https://localhost:8080/"
        },
        "outputId": "58d2bae1-86f6-4515-a5e4-d2d11c40e868"
      },
      "outputs": [
        {
          "output_type": "stream",
          "name": "stdout",
          "text": [
            "Valid password\n"
          ]
        }
      ],
      "source": [
        "#Challenging level\n",
        "#31. Create a program that validates a password based on complexity rules(length,characters,etc)\n",
        "\n",
        "import re\n",
        "password = \"R@m@_f0rtu9e$\"\n",
        "flag = 0\n",
        "while True:\n",
        "  if(len(password)<=8):\n",
        "    flag = -1\n",
        "    break\n",
        "  elif not re.search(\"[a-z]\", password):\n",
        "    flag = -1\n",
        "    break\n",
        "  elif not re.search(\"[A-Z]\", password):\n",
        "    flag = -1\n",
        "    break\n",
        "  elif not re.search(\"[0-9]\", password):\n",
        "    flag = -1\n",
        "    break\n",
        "  elif not re.search(\"[_@$]\", password):\n",
        "    flag = -1\n",
        "    break\n",
        "  elif re.search(\"\\s\", password):\n",
        "    flag = -1\n",
        "    break\n",
        "  else:\n",
        "    flag = 0\n",
        "    print(\"Valid password\")\n",
        "    break\n",
        "if flag == -1:\n",
        "  print(\"Not a Valid Password \")"
      ]
    },
    {
      "cell_type": "code",
      "execution_count": null,
      "metadata": {
        "id": "zEAFlPiAYEnN",
        "colab": {
          "base_uri": "https://localhost:8080/"
        },
        "outputId": "c9ed181e-9716-424d-b0cb-2dbae86b3fd0"
      },
      "outputs": [
        {
          "output_type": "stream",
          "name": "stdout",
          "text": [
            "Printing elements of first matrix\n",
            "[[1 2]\n",
            " [3 4]]\n",
            "Printing elements of second matrix\n",
            "[[4 5]\n",
            " [6 7]]\n",
            "Addition of two matrix\n",
            "[[ 5  7]\n",
            " [ 9 11]]\n",
            "Printing elements of first matrix\n",
            "[[1 2]\n",
            " [3 4]]\n",
            "Printing elements of second matrix\n",
            "[[4 5]\n",
            " [6 7]]\n",
            "Subtraction of two matrix\n",
            "[[-3 -3]\n",
            " [-3 -3]]\n"
          ]
        }
      ],
      "source": [
        "#32. Develop a program that performs matrix addition and subtraction based on user input\n",
        "\n",
        "import numpy as np\n",
        "A = np.array([[1, 2], [3, 4]])\n",
        "B = np.array([[4, 5], [6, 7]])\n",
        "print(\"Printing elements of first matrix\")\n",
        "print(A)\n",
        "print(\"Printing elements of second matrix\")\n",
        "print(B)\n",
        "print(\"Addition of two matrix\")\n",
        "print(np.add(A, B))\n",
        "\n",
        "import numpy as np\n",
        "A = np.array([[1, 2], [3, 4]])\n",
        "B = np.array([[4, 5], [6, 7]])\n",
        "print(\"Printing elements of first matrix\")\n",
        "print(A)\n",
        "print(\"Printing elements of second matrix\")\n",
        "print(B)\n",
        "print(\"Subtraction of two matrix\")\n",
        "print(np.subtract(A, B))"
      ]
    },
    {
      "cell_type": "code",
      "execution_count": null,
      "metadata": {
        "id": "Pyj3OSbMYVFV",
        "colab": {
          "base_uri": "https://localhost:8080/"
        },
        "outputId": "051e6aad-5e52-46a0-e8ef-c1c1bbdf0022"
      },
      "outputs": [
        {
          "output_type": "stream",
          "name": "stdout",
          "text": [
            "GCD of 98 and 56 is 14\n"
          ]
        }
      ],
      "source": [
        "#33. Write a program that calculates the greatest common divisor (GCD) of two numbers using the Euclidean algorithm\n",
        "\n",
        "def gcd(a, b):\n",
        "  if (a == 0):\n",
        "    return b\n",
        "  if (b == 0):\n",
        "    return a\n",
        "  if (a == b):\n",
        "    return a\n",
        "  if (a > b):\n",
        "    return gcd(a-b, b)\n",
        "  return gcd(a, b-a)\n",
        "a = 98\n",
        "b = 56\n",
        "if(gcd(a, b)):\n",
        "  print('GCD of', a, 'and', b, 'is', gcd(a, b))\n",
        "else:\n",
        "  print('not found')"
      ]
    },
    {
      "cell_type": "code",
      "execution_count": null,
      "metadata": {
        "id": "L3cSwr2V12Wl",
        "colab": {
          "base_uri": "https://localhost:8080/"
        },
        "outputId": "78374c99-4842-44c3-b702-50fdee1aea75"
      },
      "outputs": [
        {
          "output_type": "stream",
          "name": "stdout",
          "text": [
            "[114, 160, 60, 27]\n",
            "[74, 97, 73, 14]\n",
            "[119, 157, 112, 23]\n"
          ]
        }
      ],
      "source": [
        "#34. Build a program that performs matrix multiplication using nested loops and conditional statements\n",
        "\n",
        "def matrix_multiply_recursive(A, B):\n",
        "  if len(A[0]) != len(B):\n",
        "    raise ValueError(\"Invalid matrix dimensions\")\n",
        "  result = [[0 for j in range(len(B[0]))] for i in range (len(A))]\n",
        "  def multiply(A, B, result, i, j, k):\n",
        "    if i >= len(A):\n",
        "      return\n",
        "    if j >= len(B[0]):\n",
        "      return multiply(A, B, result, i+1, 0, 0)\n",
        "    if k >= len(B):\n",
        "      return multiply(A, B, result, i, j+1, 0)\n",
        "    result[i][j] += A[i][k] * B[k][j]\n",
        "    multiply(A, B, result, i, j, k+1)\n",
        "  multiply(A, B, result, 0, 0, 0)\n",
        "  return result\n",
        "A = [[12, 7, 3], [4, 5, 6], [7, 8, 9]]\n",
        "B = [[5, 8, 1, 2], [6, 7, 3, 0], [4, 5, 9, 1]]\n",
        "result = matrix_multiply_recursive(A, B)\n",
        "for row in result:\n",
        "  print(row)"
      ]
    },
    {
      "cell_type": "code",
      "execution_count": 6,
      "metadata": {
        "id": "qk1wcDeZ2J65",
        "colab": {
          "base_uri": "https://localhost:8080/"
        },
        "outputId": "80085433-c2b1-41c0-de71-69ec1de37b4a"
      },
      "outputs": [
        {
          "output_type": "stream",
          "name": "stdout",
          "text": [
            "[[0 0 0]\n",
            " [0 0 0]\n",
            " [0 0 0]]\n",
            "Board after 1move\n",
            "[[0 0 0]\n",
            " [0 0 0]\n",
            " [1 0 0]]\n",
            "Board after 2move\n",
            "[[0 0 0]\n",
            " [0 2 0]\n",
            " [1 0 0]]\n",
            "Board after 3move\n",
            "[[0 0 0]\n",
            " [1 2 0]\n",
            " [1 0 0]]\n",
            "Board after 4move\n",
            "[[0 0 0]\n",
            " [1 2 2]\n",
            " [1 0 0]]\n",
            "Board after 5move\n",
            "[[1 0 0]\n",
            " [1 2 2]\n",
            " [1 0 0]]\n",
            "Winner is: 1\n"
          ]
        }
      ],
      "source": [
        "#35. Create a program that simulates a basic text-based tic-tac-toe game against the computer\n",
        "\n",
        "import numpy as np\n",
        "import random\n",
        "from time import sleep\n",
        "def create_board():\n",
        "  return(np.array([[0, 0, 0], [0, 0, 0], [0, 0, 0]]))\n",
        "def possibilities(board):\n",
        "  l = []\n",
        "  for i in range(len(board)):\n",
        "    for j in range(len(board)):\n",
        "      if board[i][j] == 0:\n",
        "        l.append((i, j))\n",
        "  return(l)\n",
        "def random_place(board, player):\n",
        "  selection = possibilities(board)\n",
        "  current_loc = random.choice(selection)\n",
        "  board[current_loc] = player\n",
        "  return(board)\n",
        "def row_win(board, player):\n",
        "  for x in range(len(board)):\n",
        "    win = True\n",
        "    for y in range(len(board)):\n",
        "      win = True\n",
        "      for y in range(len(board)):\n",
        "        if board[x, y] != player:\n",
        "          win = False\n",
        "          continue\n",
        "      if win == True:\n",
        "         return(win)\n",
        "  return(win)\n",
        "def col_win(board, player):\n",
        "  for x in range(len(board)):\n",
        "    win = True\n",
        "    for y in range(len(board)):\n",
        "      if board[y][x] != player:\n",
        "        win = False\n",
        "        continue\n",
        "    if win == True:\n",
        "      return(win)\n",
        "    return(win)\n",
        "def diag_win(board, player):\n",
        "    win = True\n",
        "    y = 0\n",
        "    for x in range(len(board)):\n",
        "      if board[x, x] != player:\n",
        "        win = False\n",
        "    if win:\n",
        "      return win\n",
        "    win = True\n",
        "    if win:\n",
        "      for x in range(len(board)):\n",
        "        y = len(board) - 1 - x\n",
        "        if board[x, y] != player:\n",
        "          win = False\n",
        "    return win\n",
        "def evaluate(board):\n",
        "  winner = 0\n",
        "  for player in [1, 2]:\n",
        "    if (row_win(board, player) or col_win(board, player) or diag_win(board, player)):\n",
        "      winner = player\n",
        "  if np.all(board != 0) and winner == 0:\n",
        "    winner = -1\n",
        "  return winner\n",
        "def play_game():\n",
        "  board, winner, counter = create_board(), 0, 1\n",
        "  print(board)\n",
        "  sleep(2)\n",
        "  while winner == 0:\n",
        "    for player in [1, 2]:\n",
        "      board = random_place(board, player)\n",
        "      print(\"Board after \" + str(counter) + \"move\")\n",
        "      print(board)\n",
        "      sleep(2)\n",
        "      counter += 1\n",
        "      winner = evaluate(board)\n",
        "      if winner != 0:\n",
        "        break\n",
        "  return(winner)\n",
        "print(\"Winner is: \" + str(play_game()))"
      ]
    },
    {
      "cell_type": "code",
      "execution_count": 7,
      "metadata": {
        "id": "bROygiEg2jKS",
        "colab": {
          "base_uri": "https://localhost:8080/"
        },
        "outputId": "3c67f10c-f3a7-412f-949b-64a3c806bfe7"
      },
      "outputs": [
        {
          "output_type": "stream",
          "name": "stdout",
          "text": [
            "0\n",
            "None\n",
            "1\n",
            "1\n",
            "1\n",
            "1\n",
            "1\n",
            "1\n",
            "1\n",
            "1\n"
          ]
        }
      ],
      "source": [
        "#36. Write a program that generates Fibonacci numbers up to a specified term using iterative methods\n",
        "\n",
        "def fibonacci(n):\n",
        "  if(n == 0):\n",
        "    return 0\n",
        "  else:\n",
        "    x = 0\n",
        "    y = 1\n",
        "    for i in range(1, n):\n",
        "      z = (x + y)\n",
        "      x = y\n",
        "      y = z\n",
        "      return y\n",
        "for i in range(10):\n",
        "  print(fibonacci(i))"
      ]
    },
    {
      "cell_type": "code",
      "execution_count": 14,
      "metadata": {
        "id": "4epX4f0t21gR",
        "colab": {
          "base_uri": "https://localhost:8080/"
        },
        "outputId": "cdf28fa8-693f-4e06-9967-b8582bd76c61"
      },
      "outputs": [
        {
          "output_type": "execute_result",
          "data": {
            "text/plain": [
              "[0, 1, 1, 2, 3, 5, 8, 13, 21, 34, 55, 89, 144, 233, 377]"
            ]
          },
          "metadata": {},
          "execution_count": 14
        }
      ],
      "source": [
        "#37. Develop a program that calculates the nth term of the Fibonacci sequence using memoization\n",
        "\n",
        "cache = {0:0, 1:1}\n",
        "def fibonacci_of(n):\n",
        "  if n in cache:\n",
        "     return cache[n]\n",
        "  cache[n] = fibonacci_of(n - 1) + fibonacci_of(n - 2)\n",
        "  return cache[n]\n",
        "[fibonacci_of(n) for n in range(15)]"
      ]
    },
    {
      "cell_type": "code",
      "execution_count": null,
      "metadata": {
        "colab": {
          "base_uri": "https://localhost:8080/"
        },
        "id": "bbT5Puk43lH_",
        "outputId": "9b05d006-9a97-4505-dfd1-d235366af477"
      },
      "outputs": [
        {
          "name": "stdout",
          "output_type": "stream",
          "text": [
            "February 2020\n",
            "Su Mo Tu We Th Fr Sa\n",
            "                  01 \n",
            "02 03 04 05 06 07 08 \n",
            "09 10 11 12 13 14 15 \n",
            "16 17 18 19 20 21 22 \n",
            "23 24 25 26 27 28 29 \n"
          ]
        }
      ],
      "source": [
        "#38. Create a program that generates a calendar for a given month and year using conditional statements\n",
        "\n",
        "mm = 2\n",
        "yy = 2020\n",
        "month = {1:'January', 2:'February', 3:'March', 4:'April', 5:'May', 6:'June', 7:'July', 8:'August', 9:'September', 10:'October', 11:'November', 12:'December'}\n",
        "day = (yy - 1) % 400\n",
        "day = (day//100) * 5 + ((day % 100) - (day % 100)//4) + ((day % 100)//4)*2\n",
        "day = day % 7\n",
        "nly = [31, 28, 31, 30, 31, 30, 31, 31, 30, 31, 30, 31]\n",
        "ly = [31, 29, 31, 30, 31, 30, 31, 31, 30, 31, 30, 31]\n",
        "s = 0\n",
        "if yy % 4 == 0:\n",
        "  for i in range(mm - 1):\n",
        "    s += ly[i]\n",
        "else:\n",
        "  for i in range(mm - 1):\n",
        "    s += nly[i]\n",
        "day += s % 7\n",
        "day = day % 7\n",
        "space = ''\n",
        "space = space.rjust(2, ' ')\n",
        "print(month[mm], yy)\n",
        "print('Su', 'Mo', 'Tu', 'We', 'Th', 'Fr', 'Sa')\n",
        "if mm == 9 or mm == 4 or mm == 6 or mm == 11:\n",
        "  for i in range(31 + day):\n",
        "    if i <= day:\n",
        "      print(space, end = ' ')\n",
        "    else:\n",
        "      print(\"{:02d}\".format(i - day), end = ' ')\n",
        "      if (i + 1) % 7 == 0:\n",
        "        print()\n",
        "elif mm == 2:\n",
        "    if yy % 4 == 0:\n",
        "        p = 30\n",
        "    else:\n",
        "        p = 29\n",
        "    for i in range(p + day):\n",
        "          if i <= day:\n",
        "            print(space, end = ' ')\n",
        "          else:\n",
        "            print(\"{:02d}\".format(i - day), end = ' ')\n",
        "            if(i + 1) % 7 == 0:\n",
        "              print()\n",
        "else:\n",
        "  for i in range(32 + day):\n",
        "    if i <= day:\n",
        "      print(space, end = ' ')\n",
        "    else:\n",
        "      print(\"{:02d}\".format(i-day), end = ' ')\n",
        "      if (i + 1) % 7 == 0:\n",
        "        print()"
      ]
    },
    {
      "cell_type": "code",
      "execution_count": null,
      "metadata": {
        "colab": {
          "base_uri": "https://localhost:8080/"
        },
        "id": "ZOoKe2O43_r4",
        "outputId": "4f6b0b0f-4fe0-44f9-ecdf-bee17d526064"
      },
      "outputs": [
        {
          "name": "stdout",
          "output_type": "stream",
          "text": [
            "Cards Player Has:  [('7', 'Clubs'), ('6', 'Spades')]\n",
            "Score Of The Player:  13\n",
            "\n",
            "\n",
            "What do you want? [\"play\" to request another card, \"stop\" to stop]: stop\n"
          ]
        }
      ],
      "source": [
        "#39. Build a program that simulates a basic text-based blackjack game against the computer\n",
        "\n",
        "import random\n",
        "card_categories = ['Hearts', 'Diamonds', 'Clubs', 'Spades']\n",
        "cards_list = ['Ace', '2', '3', '4', '5', '6', '7', '8', '9', '10', 'Jack', 'Queen', 'King']\n",
        "deck = [(card, category) for category in card_categories for card in cards_list]\n",
        "def card_value(card):\n",
        "  if card[0] in ['Jack', 'Queeen', 'King']:\n",
        "    return 10\n",
        "  elif card[0] == 'Ace':\n",
        "    return 11\n",
        "  else:\n",
        "    return int(card[0])\n",
        "random.shuffle(deck)\n",
        "player_card = [deck.pop(), deck.pop()]\n",
        "dealer_card = [deck.pop(), deck.pop()]\n",
        "while True:\n",
        "  player_score = sum(card_value(card) for card in player_card)\n",
        "  dealer_score = sum(card_value(card) for card in dealer_card)\n",
        "  print(\"Cards Player Has: \", player_card)\n",
        "  print(\"Score Of The Player: \", player_score)\n",
        "  print(\"\\n\")\n",
        "  choice = input('What do you want? [\"play\" to request another card, \"stop\" to stop]: ').lower()\n",
        "  if choice == \"play\":\n",
        "    new_card = deck.pop()\n",
        "    player_card.append(new_card)\n",
        "  elif choice == \"stop\":\n",
        "    break\n",
        "  else:\n",
        "    print(\"Invalid choice. Please try again.\")\n",
        "    continue\n",
        "  if player_score > 21:\n",
        "    print(\"Cards Dealer Has: \", dealer_card)\n",
        "    print(\"Score Of The Dealer: \", dealer_score)\n",
        "    print(\"Cards Player Has: \", player_card)\n",
        "    print(\"Score Of The Player: \", player_score)\n",
        "    print(\"Dealer wins(Player Loss Because Player score is exceeding 21)\")\n",
        "    break\n",
        "  while dealer_score < 17:\n",
        "    new_card = deck.pop()\n",
        "    dealer_card.append(new_card)\n",
        "    dealer_score += card_value(new_card)\n",
        "  print(\"Cards Dealer Has: \", dealer_card)\n",
        "  print(\"Score Of The Dealer: \", dealer_score)\n",
        "  print(\"\\n\")\n",
        "  if dealer_score > 21:\n",
        "    print(\"Cards Dealer Has: \", dealer_card)\n",
        "    print(\"Score Of The Dealer: \", dealer_score)\n",
        "    print(\"Cards Player Has: \", player_card)\n",
        "    print(\"Score Of The Player: \", player_score)\n",
        "    print(\"Player wins(Dealer Loss Because Dealer score is exceeding 21)\")\n",
        "  elif player_score > dealer_score:\n",
        "    print(\"Cards Dealer Has: \", dealer_card)\n",
        "    print(\"Score Of The Dealer: \", dealer_score)\n",
        "    print(\"Cards Player Has: \", player_card)\n",
        "    print(\"Score Of The Player: \", player_score)\n",
        "    print(\"Player wins (Player Has High Score than Dealer)\")\n",
        "  elif dealer_score > player_score:\n",
        "    print(\"Cards Dealer Has: \", dealer_card)\n",
        "    print(\"Score Of The Dealer: \", dealer_score)\n",
        "    print(\"Cards Player Has: \", player_card)\n",
        "    print(\"Score Of The Player: \", player_score)\n",
        "    print(\"Dealer wins(Dealer Has High Score than Player)\")\n",
        "  else:\n",
        "    print(\"Cards Dealer Has: \", dealer_card)\n",
        "    print(\"Score Of The Dealer: \", dealer_score)\n",
        "    print(\"Cards Player Has: \", player_card)\n",
        "    print(\"Score Of The Player: \", player_score)\n",
        "    print(\"It's a tie.\")"
      ]
    },
    {
      "cell_type": "code",
      "execution_count": null,
      "metadata": {
        "colab": {
          "base_uri": "https://localhost:8080/"
        },
        "id": "PKoq-xuN4RVe",
        "outputId": "c42b94b1-e13a-4eac-a52b-2635cc3fc29d"
      },
      "outputs": [
        {
          "name": "stdout",
          "output_type": "stream",
          "text": [
            "Composite\n"
          ]
        }
      ],
      "source": [
        "#40. Write a program that generates the prime factors of a given number using trial division\n",
        "\n",
        "def TrialDivision(N):\n",
        "  i = 2\n",
        "  k = int(N ** 0.5)\n",
        "  while(i <= k):\n",
        "    if(N % i == 0):\n",
        "      return 0\n",
        "    i += 1\n",
        "  return 1\n",
        "if __name__ =='__main__':\n",
        "  N = 49\n",
        "  p = TrialDivision(N)\n",
        "  if(p):\n",
        "    print(\"Prime\")\n",
        "  else:\n",
        "    print(\"Composite\")"
      ]
    }
  ],
  "metadata": {
    "colab": {
      "provenance": []
    },
    "kernelspec": {
      "display_name": "Python 3",
      "name": "python3"
    },
    "language_info": {
      "name": "python"
    }
  },
  "nbformat": 4,
  "nbformat_minor": 0
}